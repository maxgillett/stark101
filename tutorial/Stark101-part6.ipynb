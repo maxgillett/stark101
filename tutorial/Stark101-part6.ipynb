{
 "cells": [
  {
   "cell_type": "markdown",
   "metadata": {},
   "source": [
    "# Part 6: Verify"
   ]
  },
  {
   "cell_type": "markdown",
   "metadata": {},
   "source": [
    "## Load the previous session"
   ]
  },
  {
   "cell_type": "markdown",
   "metadata": {},
   "source": [
    "Generate the proof "
   ]
  },
  {
   "cell_type": "code",
   "execution_count": 1,
   "metadata": {},
   "outputs": [
    {
     "name": "stderr",
     "output_type": "stream",
     "text": [
      "100%|██████████████████████████████████████████████████████████████████████████████████████████████████████████████████████████████████████████████████████████████████████████████████████████████████████████████████████████████████████| 1023/1023 [00:06<00:00, 161.40it/s]\n",
      "100%|██████████████████████████████████████████████████████████████████████████████████████████████████████████████████████████████████████████████████████████████████████████████████████████████████████████████████████████████████████| 1023/1023 [00:06<00:00, 151.18it/s]\n"
     ]
    }
   ],
   "source": [
    "import copy\n",
    "import math\n",
    "import merkle\n",
    "from field import FieldElement\n",
    "from polynomial import interpolate_poly\n",
    "from tutorial_sessions import part4\n",
    "from channel import *\n",
    "\n",
    "channel = part4()"
   ]
  },
  {
   "cell_type": "markdown",
   "metadata": {},
   "source": [
    "## Verify the proof"
   ]
  },
  {
   "cell_type": "markdown",
   "metadata": {},
   "source": [
    "Define the proof parameters (these should be encoded along with the proof)"
   ]
  },
  {
   "cell_type": "code",
   "execution_count": 2,
   "metadata": {},
   "outputs": [],
   "source": [
    "cp_degree = 1023\n",
    "group_size = 1024\n",
    "blowup_factor = 8\n",
    "num_rounds = math.ceil(math.log2(cp_degree))\n",
    "num_random_queries = 3 "
   ]
  },
  {
   "cell_type": "markdown",
   "metadata": {},
   "source": [
    "Reconstruct the composition polynomial"
   ]
  },
  {
   "cell_type": "code",
   "execution_count": 3,
   "metadata": {},
   "outputs": [],
   "source": [
    "g = FieldElement.generator()**(3 * 2**20)\n",
    "def p0(x, f):\n",
    "    return (f - 1) / (x - 1)\n",
    "def p1(x, f):\n",
    "    return (f - 2338775057) / (x - g**1022)\n",
    "def p2(x, f0, f1, f2):\n",
    "    return (f2 - f1**2 - f0**2) / ((x**1024 - 1) / ((x - g**1021) * (x - g**1022) * (x - g**1023)))\n",
    "def cp_0(x, f0, f1, f2):\n",
    "    return alpha_0*p0(x, f0) + alpha_1*p1(x, f0) + alpha_2*p2(x, f0, f1, f2)"
   ]
  },
  {
   "cell_type": "markdown",
   "metadata": {},
   "source": [
    "Generate the evaluation domain"
   ]
  },
  {
   "cell_type": "code",
   "execution_count": 4,
   "metadata": {},
   "outputs": [],
   "source": [
    "h_gen = FieldElement.generator() ** ((2 ** 30 * 3) // 8192)\n",
    "h = [h_gen ** i for i in range(8192)]\n",
    "eval_domain = [FieldElement.generator() * x for x in h]"
   ]
  },
  {
   "cell_type": "markdown",
   "metadata": {},
   "source": [
    "Make a copy of the proof transcript"
   ]
  },
  {
   "cell_type": "code",
   "execution_count": 5,
   "metadata": {},
   "outputs": [],
   "source": [
    "proof = copy.copy(channel.proof)\n",
    "proof.reverse()"
   ]
  },
  {
   "cell_type": "markdown",
   "metadata": {},
   "source": [
    "Deserialize the following:\n",
    "1. Merkle root of the trace polynomial evaluated over the evaluation domain\n",
    "2. Random field elements supplied by the verifier used to construct the composition polynomial\n",
    "3. Merkle root of the composition polynomial"
   ]
  },
  {
   "cell_type": "code",
   "execution_count": 6,
   "metadata": {},
   "outputs": [],
   "source": [
    "f_merkle = decode_str(proof.pop())\n",
    "alpha_0, alpha_1, alpha_2 = [decode_rand_field_elem(proof.pop()) for _ in range(3)]\n",
    "cp_merkle = decode_str(proof.pop())"
   ]
  },
  {
   "cell_type": "markdown",
   "metadata": {},
   "source": [
    "Verify {alpha_0, alpha_1, alpha_2} were sampled correctly using reconstructed channel state"
   ]
  },
  {
   "cell_type": "code",
   "execution_count": 7,
   "metadata": {},
   "outputs": [],
   "source": [
    "# TODO"
   ]
  },
  {
   "cell_type": "markdown",
   "metadata": {},
   "source": [
    "Deserialize FRI merkle tree roots and $\\beta_i$ for each round $i$, including the final scalar codeword"
   ]
  },
  {
   "cell_type": "code",
   "execution_count": 8,
   "metadata": {},
   "outputs": [],
   "source": [
    "betas = []\n",
    "fri_merkles = []\n",
    "for i in range(num_rounds):\n",
    "    betas.append(decode_rand_field_elem(proof.pop()))\n",
    "    fri_merkles.append(decode_str(proof.pop()))\n",
    "fri_constant = decode_int(proof.pop())"
   ]
  },
  {
   "cell_type": "markdown",
   "metadata": {},
   "source": [
    "Check that the last codeword matches the Merkle root"
   ]
  },
  {
   "cell_type": "code",
   "execution_count": 9,
   "metadata": {},
   "outputs": [],
   "source": [
    "# Not needed because the final codeword is a scalar"
   ]
  },
  {
   "cell_type": "markdown",
   "metadata": {},
   "source": [
    "Check the following:\n",
    "- Final codeword is low degree\n",
    "- Order of final evaluation domain matches final codeword length\n",
    "- Final codeword remains the same when evaluated on the final evaluation domain"
   ]
  },
  {
   "cell_type": "code",
   "execution_count": 10,
   "metadata": {},
   "outputs": [],
   "source": [
    "# No checks are needed because we did not terminate in an early round"
   ]
  },
  {
   "cell_type": "markdown",
   "metadata": {},
   "source": [
    "Deserialize FRI layers"
   ]
  },
  {
   "cell_type": "code",
   "execution_count": 11,
   "metadata": {
    "tags": []
   },
   "outputs": [
    {
     "name": "stdout",
     "output_type": "stream",
     "text": [
      "Verified\n"
     ]
    }
   ],
   "source": [
    "for i in range(num_random_queries):\n",
    "    # TODO: Verify randomly sampled indices using reconstructed channel state\n",
    "    idx = decode_rand_int(proof.pop())\n",
    "    \n",
    "    # Retrieve trace polynomial evaluations\n",
    "    f_x = decode_field_elem(proof.pop())\n",
    "    f_x_auth = decode_list(proof.pop())\n",
    "    f_gx = decode_field_elem(proof.pop())\n",
    "    f_gx_auth = decode_list(proof.pop())\n",
    "    f_gsquaredx = decode_field_elem(proof.pop())\n",
    "    f_gsquaredx_auth = decode_list(proof.pop())\n",
    "    \n",
    "    # Verify authentication paths for trace polynomial\n",
    "    assert merkle.verify_decommitment(idx, f_x, f_x_auth, f_merkle) == True\n",
    "    assert merkle.verify_decommitment(idx + 8, f_gx, f_gx_auth, f_merkle) == True\n",
    "    assert merkle.verify_decommitment(idx + 16, f_gsquaredx, f_gsquaredx_auth, f_merkle) == True\n",
    "    \n",
    "    # Retrieve FRI decommitments\n",
    "    layer_a = []\n",
    "    layer_b = []\n",
    "    auth_a = []\n",
    "    auth_b = []\n",
    "    idx_ = idx\n",
    "    for _ in range(num_rounds):\n",
    "        # Layer and auth path for idx\n",
    "        layer_a.append(decode_field_elem(proof.pop()))\n",
    "        auth_a.append(decode_list(proof.pop()))\n",
    "        # Layer and auth path for sib_idx\n",
    "        layer_b.append(decode_field_elem(proof.pop()))\n",
    "        auth_b.append(decode_list(proof.pop()))\n",
    "    # Final scalar codeword\n",
    "    layer_a.append(decode_field_elem(proof.pop()))\n",
    "        \n",
    "    # Verify cp_0 is derived from the trace polynomial\n",
    "    assert cp_0(eval_domain[idx], f_x, f_gx, f_gsquaredx) == layer_a[0]\n",
    "        \n",
    "    # Verify that FRI layers are consistent\n",
    "    length = group_size * blowup_factor\n",
    "    roots = [cp_merkle] + fri_merkles\n",
    "    for n, (cp_i, cp_i_inv, cp_j) in enumerate(zip(layer_a[:-1], layer_b, layer_a[1:])):\n",
    "        idx = int(idx % length)\n",
    "        idx_sib = int((idx + length // 2) % length)\n",
    "        \n",
    "        # Verify authentication paths for composition polynomial\n",
    "        assert merkle.verify_decommitment(idx_, layer_a[n], auth_a[n], roots[n]) == True\n",
    "        assert merkle.verify_decommitment(idx_sib, layer_b[n], auth_b[n], roots[n]) == True\n",
    "        \n",
    "        # Verify colinearity \n",
    "        domain = [eval_domain[idx]**(2**n), eval_domain[idx_sib]**(2**n), betas[n]]\n",
    "        values = [cp_i, cp_i_inv, cp_j]\n",
    "        assert interpolate_poly(domain, values, disable_pbar=True).degree() == 1\n",
    "        length /= 2\n",
    "        \n",
    "print(\"Verified\")"
   ]
  }
 ],
 "metadata": {
  "kernelspec": {
   "display_name": "Python 3 (ipykernel)",
   "language": "python",
   "name": "python3"
  },
  "language_info": {
   "codemirror_mode": {
    "name": "ipython",
    "version": 3
   },
   "file_extension": ".py",
   "mimetype": "text/x-python",
   "name": "python",
   "nbconvert_exporter": "python",
   "pygments_lexer": "ipython3",
   "version": "3.9.7"
  }
 },
 "nbformat": 4,
 "nbformat_minor": 4
}
