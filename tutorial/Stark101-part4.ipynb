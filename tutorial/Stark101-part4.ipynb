{
 "cells": [
  {
   "cell_type": "markdown",
   "metadata": {},
   "source": [
    "*Copyright 2019 StarkWare Industries Ltd.<br> Licensed under the Apache License, Version 2.0 (the \"License\"). You may not use this file except in compliance with the License. You may obtain a copy of the License at https://www.starkware.co/open-source-license/ <br> Unless required by applicable law or agreed to in writing, software distributed under the License is distributed on an \"AS IS\" BASIS, WITHOUT WARRANTIES OR CONDITIONS OF ANY KIND, either express or implied. See the License for the specific language governing permissions and limitations under the License.*"
   ]
  },
  {
   "cell_type": "markdown",
   "metadata": {},
   "source": [
    "# Part 4: Query Phase"
   ]
  },
  {
   "cell_type": "markdown",
   "metadata": {},
   "source": [
    "- [Video Lecture (youtube)](https://www.youtube.com/watch?v=CxP28qM4tAc)\n",
    "- [Slides (PDF)](https://starkware.co/wp-content/uploads/2021/12/STARK101-Part4.pdf)\n",
    "\n",
    "### Load the Previous Session\n",
    "Run the next cell to load the variables we'll use in this part. Since it repeats everything done in previous parts - it will take a while to run."
   ]
  },
  {
   "cell_type": "code",
   "execution_count": 1,
   "metadata": {},
   "outputs": [
    {
     "name": "stderr",
     "output_type": "stream",
     "text": [
      "100%|██████████████████████████████████████████████████████████████████████████████████████████████████████████████████████████████████████████████████████████████████████████████████████████████████████████████████████████████████████| 1023/1023 [00:08<00:00, 116.23it/s]\n",
      "100%|██████████████████████████████████████████████████████████████████████████████████████████████████████████████████████████████████████████████████████████████████████████████████████████████████████████████████████████████████████| 1023/1023 [00:06<00:00, 151.13it/s]\n"
     ]
    },
    {
     "name": "stdout",
     "output_type": "stream",
     "text": [
      "Success!\n"
     ]
    }
   ],
   "source": [
    "from channel import Channel\n",
    "from tutorial_sessions import part1, part3 \n",
    "\n",
    "_, _, _, _, _, _, _, f_eval, f_merkle, _ = part1()\n",
    "fri_polys, fri_domains, fri_layers, fri_merkles, _ = part3()\n",
    "\n",
    "print('Success!')"
   ]
  },
  {
   "cell_type": "markdown",
   "metadata": {},
   "source": [
    "## Decommit on a Query\n",
    "\n",
    "Our goal in this part is to generate all the information needed for verifying the commitments of the three previous parts. In this part we write two functions:\n",
    "1. `decommit_on_fri_layers` - sends over the channel data showing that each FRI layer is consistent with the others, when sampled at a specified index.\n",
    "2. `decommit_on_query` - sends data required for decommiting on the trace and then calls `decommit_on_fri_layers`.  <br>"
   ]
  },
  {
   "cell_type": "markdown",
   "metadata": {},
   "source": [
    "### Decommit on the FRI Layers\n",
    "Implement `decommit_on_fri_layers` function. The function gets an index and a channel, and sends over the channel the relevant data for verifying the correctness of the FRI layers. More specifically, it iterates over `fri_layers` and `fri_merkles` and in each iteration it sends the following data (in the stated order):\n",
    "1. The element of the FRI layer at the given index (using `fri_layers`).\n",
    "2. Its authentication path (using the corresponding Merkle tree from `fri_merkles`).\n",
    "3. The element's FRI sibling (i.e., if the element is $cp_i(x)$, then its sibling is $cp_i(-x)$, where $cp_i$ is the current layer's polynomial, and $x$ is an element from the current layer's domain). \n",
    "4. The authentication path of the element's sibling (using the same merkle tree).\n",
    "\n",
    "To get an authentication path of an element, use `get_authentication_path()` of the `MerkleTree` class, with the corresponding index each time. Note that the index of the element's sibling equals to (idx + $\\frac k  2$) mod $k$,  where $k$ is the length of the relevant FRI layer.<br>\n",
    "Note that we do **not** send the authentication path for the element in the last layer. In the last layer, all the elements are equal, regardless of the query, as they are evaluations of a constant polynomial.\n",
    "\n",
    "*(Remember to convert non-string variables into string before sending over the channel.)*"
   ]
  },
  {
   "cell_type": "code",
   "execution_count": 2,
   "metadata": {},
   "outputs": [],
   "source": [
    "# Fix this.\n",
    "def decommit_on_fri_layers(idx, channel):\n",
    "    for layer, merkle in zip(fri_layers[:-1], fri_merkles[:-1]):\n",
    "        # Fix this: send elements and authentication pathes of all the FRI layers but the last one.\n",
    "        channel.send('The element from the current layer')\n",
    "        channel.send('The authentication path for this element')\n",
    "        channel.send('The element\\'s sibling in the current layer')\n",
    "        channel.send('The sibling\\'s authentication path')\n",
    "    # Send the element in the last FRI layer.\n",
    "    channel.send('The last element')"
   ]
  },
  {
   "cell_type": "markdown",
   "metadata": {},
   "source": [
    "Solution:"
   ]
  },
  {
   "cell_type": "code",
   "execution_count": 3,
   "metadata": {
    "jupyter": {
     "source_hidden": true
    },
    "tags": []
   },
   "outputs": [],
   "source": [
    "def decommit_on_fri_layers(idx, channel):\n",
    "    for layer, merkle in zip(fri_layers[:-1], fri_merkles[:-1]):\n",
    "        length = len(layer)\n",
    "        idx = idx % length\n",
    "        sib_idx = (idx + length // 2) % length        \n",
    "        channel.send(str(layer[idx]))\n",
    "        channel.send(str(merkle.get_authentication_path(idx)))\n",
    "        channel.send(str(layer[sib_idx]))\n",
    "        channel.send(str(merkle.get_authentication_path(sib_idx)))       \n",
    "    channel.send(str(fri_layers[-1][0]))"
   ]
  },
  {
   "cell_type": "markdown",
   "metadata": {},
   "source": [
    "Test your code:"
   ]
  },
  {
   "cell_type": "code",
   "execution_count": 4,
   "metadata": {},
   "outputs": [
    {
     "name": "stdout",
     "output_type": "stream",
     "text": [
      "Success!\n"
     ]
    }
   ],
   "source": [
    "# Test against a precomputed hash.\n",
    "test_channel = Channel()\n",
    "for query in [7527, 8168, 1190, 2668, 1262, 1889, 3828, 5798, 396, 2518]:\n",
    "    decommit_on_fri_layers(query, test_channel)\n",
    "assert test_channel.state == '4249e24e2738b4e244ca8568b8257bc7a14a98d0177a8298cbb9354bcb019c74', 'State of channel is wrong.'\n",
    "print('Success!')"
   ]
  },
  {
   "cell_type": "markdown",
   "metadata": {},
   "source": [
    "### Decommit on the Trace Polynomial\n",
    "To prove that indeed the FRI layers we decommit on were generated from evaluation of the composition polynomial, we must also send:\n",
    "1. The value $f(x)$ with its authentication path.\n",
    "2. The value $f(gx)$ with its authentication path.\n",
    "3. The value $f(g^2x)$ with its authentication path. <br>\n",
    "The verifier, knowing the random coefficients of the composition polynomial, can compute its evaluation at $x$, and compare it with the first element sent from the first FRI layer.\n",
    "\n",
    "The function `decommit_on_query` should therefore send the above (1, 2, and 3) over the channel, and then call `decommit_on_fri_layers`. <br> <br>\n",
    "\n",
    "Importantly, even though $x, gx, g^2x$ are consecutive elements (modulo the group size $|G|$) in the trace, the evaluations of `f_eval` in these points are actually 8 elements apart. The reason for this is that we \"blew up\" the trace to 8 times its size in part I, to obtain a Reed Solomon codeword.\n",
    "\n",
    "*Reminder: `f_eval` is the evaluation of the composition polynomial, and `f_merkle` is the corresponding Merkle tree.*"
   ]
  },
  {
   "cell_type": "code",
   "execution_count": 5,
   "metadata": {},
   "outputs": [],
   "source": [
    "def decommit_on_query(idx, channel):\n",
    "    # Send elements and authentication pathes for f(x), f(gx) and f(g^2x) over the channel. \n",
    "    channel.send('f(x)')\n",
    "    channel.send('f(x)\\'s authentication path')\n",
    "    channel.send('f(gx)')\n",
    "    channel.send('f(gx)\\'s authentication path')\n",
    "    channel.send('f(g^2x)')\n",
    "    channel.send('f(g^2x)\\'s authentication path')\n",
    "    decommit_on_fri_layers(idx, channel) # No need to fix this line."
   ]
  },
  {
   "cell_type": "markdown",
   "metadata": {},
   "source": [
    "Solution:"
   ]
  },
  {
   "cell_type": "code",
   "execution_count": 6,
   "metadata": {
    "jupyter": {
     "source_hidden": true
    },
    "tags": []
   },
   "outputs": [],
   "source": [
    "def decommit_on_query(idx, channel): \n",
    "    assert idx + 16 < len(f_eval), f'query index: {idx} is out of range. Length of layer: {len(f_eval)}.'\n",
    "    channel.send(str(f_eval[idx])) # f(x).\n",
    "    channel.send(str(f_merkle.get_authentication_path(idx))) # auth path for f(x).\n",
    "    channel.send(str(f_eval[idx + 8])) # f(gx).\n",
    "    channel.send(str(f_merkle.get_authentication_path(idx + 8))) # auth path for f(gx).\n",
    "    channel.send(str(f_eval[idx + 16])) # f(g^2x).\n",
    "    channel.send(str(f_merkle.get_authentication_path(idx + 16))) # auth path for f(g^2x).\n",
    "    decommit_on_fri_layers(idx, channel)    "
   ]
  },
  {
   "cell_type": "markdown",
   "metadata": {},
   "source": [
    "Test your code:"
   ]
  },
  {
   "cell_type": "code",
   "execution_count": 7,
   "metadata": {},
   "outputs": [
    {
     "name": "stdout",
     "output_type": "stream",
     "text": [
      "Success!\n"
     ]
    }
   ],
   "source": [
    "# Test against a precomputed hash.\n",
    "test_channel = Channel()\n",
    "for query in [8134, 1110, 1134, 6106, 7149, 4796, 144, 4738, 957]:\n",
    "    decommit_on_query(query, test_channel)\n",
    "assert test_channel.state == '10012145ecc6f7392a668d3167aa72d3e5c66959738daae2c26da3c7c8a4f2cf', 'State of channel is wrong.'\n",
    "print('Success!')"
   ]
  },
  {
   "cell_type": "markdown",
   "metadata": {},
   "source": [
    "### Decommit on a Set of Queries\n",
    "To finish the proof, the prover gets a set of random queries from the channel, i.e., indices between 0 to 8191, and decommits on each query.\n",
    "\n",
    "Use the function that you just implemented `decommit_on_query()`, and `Channel.receive_random_int` to generate 3 random queries and decommit on each."
   ]
  },
  {
   "cell_type": "code",
   "execution_count": 8,
   "metadata": {},
   "outputs": [],
   "source": [
    "# Fix this.\n",
    "def decommit_fri(channel):\n",
    "    for query in range(3):\n",
    "        pass # Get a random index from the channel and send the corresponding decommitment.    "
   ]
  },
  {
   "cell_type": "markdown",
   "metadata": {},
   "source": [
    "Solution:"
   ]
  },
  {
   "cell_type": "code",
   "execution_count": 9,
   "metadata": {
    "jupyter": {
     "source_hidden": true
    },
    "tags": []
   },
   "outputs": [],
   "source": [
    "def decommit_fri(channel):\n",
    "    for query in range(3):\n",
    "        # Get a random index from the verifier and send the corresponding decommitment.\n",
    "        decommit_on_query(channel.receive_random_int(0, 8191-16), channel)"
   ]
  },
  {
   "cell_type": "markdown",
   "metadata": {},
   "source": [
    "Test your code:"
   ]
  },
  {
   "cell_type": "code",
   "execution_count": 10,
   "metadata": {},
   "outputs": [
    {
     "name": "stdout",
     "output_type": "stream",
     "text": [
      "Success!\n"
     ]
    }
   ],
   "source": [
    "test_channel = Channel()\n",
    "decommit_fri(test_channel)\n",
    "assert test_channel.state == '65c7327214ce0ab41a9df74ea2a89783ed7f352451141ee48cbb381370b17118', 'State of channel is wrong.' \n",
    "print('Success!')"
   ]
  },
  {
   "cell_type": "markdown",
   "metadata": {},
   "source": [
    "## Proving Time!\n",
    "Run the following cell that ties it all together, running all previous code, as well as the functions you wrote in this part, and prints the proof."
   ]
  },
  {
   "cell_type": "code",
   "execution_count": 11,
   "metadata": {},
   "outputs": [
    {
     "name": "stdout",
     "output_type": "stream",
     "text": [
      "Generating the trace...\n"
     ]
    },
    {
     "name": "stderr",
     "output_type": "stream",
     "text": [
      "100%|██████████████████████████████████████████████████████████████████████████████████████████████████████████████████████████████████████████████████████████████████████████████████████████████████████████████████████████████████████| 1023/1023 [00:06<00:00, 154.92it/s]\n"
     ]
    },
    {
     "name": "stdout",
     "output_type": "stream",
     "text": [
      "9.615734815597534s\n",
      "Generating the composition polynomial and the FRI layers...\n"
     ]
    },
    {
     "name": "stderr",
     "output_type": "stream",
     "text": [
      "100%|██████████████████████████████████████████████████████████████████████████████████████████████████████████████████████████████████████████████████████████████████████████████████████████████████████████████████████████████████████| 1023/1023 [00:06<00:00, 161.93it/s]\n"
     ]
    },
    {
     "name": "stdout",
     "output_type": "stream",
     "text": [
      "13.749186754226685s\n",
      "Generating queries and decommitments...\n",
      "0.42821192741394043s\n",
      "['send:6c266a104eeaceae93c14ad799ce595ec8c2764359d7ad1b4b7c57a4da52be04', 'receive_random_field_element:2948900820', 'receive_random_field_element:1859037345', 'receive_random_field_element:2654806830', 'send:d7e5200e990727c6da6bf711aeb496244b8b48436bd6f29066e1ddb64e22605b', 'receive_random_field_element:2626827901', 'send:dcbb68ffbf425707f19f44d6c7e48026bb08fc977cfc91ca82cc29b89913c037', 'receive_random_field_element:1410994212', 'send:b59994a75458d007e5b67f02700b7f96bbc510900c1fb6124797575318a7340c', 'receive_random_field_element:714123710', 'send:92b9297e4d1920f6c91500350a22592e41f35d3e127bac0d68c36224cb3e8abe', 'receive_random_field_element:1299725402', 'send:43b2754838e9f452f7dd8fe0b7ebd642e1e157d27ca810775b19a49e74512434', 'receive_random_field_element:1031626190', 'send:c26be2d587fad765c7c81d888d5f9d8a3c92f8ae4ef802c4b1be6c6b483dba78', 'receive_random_field_element:179155383', 'send:4c7e733cf2c6ed1541a0d3dd11f8df5a736d4fa5410114f9f7187253f0beaf3c', 'receive_random_field_element:576979543', 'send:f42d6ba6d5a1e8ab9b8c2e44eb9fd8dd296c949a1fb8152fda8c9398bea2474f', 'receive_random_field_element:864956371', 'send:10f032ad5a87c7a432b035b3b759bdef277a851b3ed99296cb89c73205a5a605', 'receive_random_field_element:925967044', 'send:cd47fddeda8d081481286de849c04a4746f1541d3f047a7d56837ed5e517d7d8', 'receive_random_field_element:3055088776', 'send:57fbccfbb49bc6389f4327bcfc9ae7b32a9bd6593ddcc30238f80a399a45906c', 'send:807809296', 'receive_random_int:6747', 'send:-1481421723', \"send:['76f7d3d788bbf4ab1a4992b8363ace03b8c877db54e735017f2f8d98823acb93', '43cac23f8d1c2ec2a6ee1657ce775bbc3c9635e58fb0a5134b02a841d01cf911', '69b8e3aca221deb68f6ef0dbb76fae920992b1b5a229318da0b366af62b394a6', 'c53206227d6157f2908b03e264f614a03127f4bf853c9f6afc8b298fb8a38474', '39c834cc4ad3c6d8ac1aa271a8250f604830ab8cebb8f855556aae9a9b6818da', '69fc59b5dcaa0adefa2f3ec68cfddd703cfe1aca9488704374825ce25b6346c6', '1e42e5c1a1565f25d2e21cef4f039a334fe8f96f1837bfd660dd9d1636779ee7', '6351ad84f0a04a08e57ac543638fc9eb705793f27909e8c47b1b74acb3b70b47', 'f99340a106de76a1d45dd6e37d21133ede7325c756df741d6fc5506130183604', 'bdfa6641e7fc74721d80d61a2abe74329b8f0cffa39cec1f8723ddf1e97ac3fa', 'd17b111d46fceda8e29aff1baa32d43a690fb207e93da30f5085b908bf1ac509', '5c451284d89485b8fcdc559e135e6fde813d546530095bb28fba5a4c4ff768f5', 'f6f4bbb0a6ac588e4cd6e9852055f9b8ef364f049f636811247d5a4bfd866be0']\", 'send:-786933868', \"send:['76f7d3d788bbf4ab1a4992b8363ace03b8c877db54e735017f2f8d98823acb93', '43cac23f8d1c2ec2a6ee1657ce775bbc3c9635e58fb0a5134b02a841d01cf911', '69b8e3aca221deb68f6ef0dbb76fae920992b1b5a229318da0b366af62b394a6', 'c53206227d6157f2908b03e264f614a03127f4bf853c9f6afc8b298fb8a38474', '39c834cc4ad3c6d8ac1aa271a8250f604830ab8cebb8f855556aae9a9b6818da', '69fc59b5dcaa0adefa2f3ec68cfddd703cfe1aca9488704374825ce25b6346c6', '1e42e5c1a1565f25d2e21cef4f039a334fe8f96f1837bfd660dd9d1636779ee7', 'aada25f27acfb2242283d7038449c31dfc645d2dcff41e14b6e4a357587d171f', 'd1a4625a7181d8d75e0ac715cbfd119e182a579ab8e9d45c178cae4a5a7713a2', '2c83042b25a736e40d74a52a13b26cdd36383520433d6fb35720ede59f234edd', 'b368d466e3c6709850e43f1c6b9399bcb83011673c85ec184596ce3929a2a74e', '7b6a19f8e933a5061f502bbc43603e13edcea6df4d9f20a3c13a92014561172f', '93983e01b1291b378d65d318b4dcf9e0c1bba798ccb8a9d29e6227ee7ae56afa']\", 'send:1060486836', \"send:['76f7d3d788bbf4ab1a4992b8363ace03b8c877db54e735017f2f8d98823acb93', '43cac23f8d1c2ec2a6ee1657ce775bbc3c9635e58fb0a5134b02a841d01cf911', '69b8e3aca221deb68f6ef0dbb76fae920992b1b5a229318da0b366af62b394a6', 'c53206227d6157f2908b03e264f614a03127f4bf853c9f6afc8b298fb8a38474', '39c834cc4ad3c6d8ac1aa271a8250f604830ab8cebb8f855556aae9a9b6818da', '69fc59b5dcaa0adefa2f3ec68cfddd703cfe1aca9488704374825ce25b6346c6', '1e42e5c1a1565f25d2e21cef4f039a334fe8f96f1837bfd660dd9d1636779ee7', 'aada25f27acfb2242283d7038449c31dfc645d2dcff41e14b6e4a357587d171f', 'd1a4625a7181d8d75e0ac715cbfd119e182a579ab8e9d45c178cae4a5a7713a2', 'e57e45560132d9c209e7023f27b000cc6778fa009eeb3644e175a95620b6222b', '6f0ce20fe38e7ffca2b482eac86f3c101c9610987bc688de4ff13a73539a5c17', 'b47df76315767432d54396b77ae862bcd6c2d745b7f23baeb172439ff964da64', '94de10ede3d435f2a7a5d540ae2f7c4e28f312fbf6cbf82de4c4c2c4652476e7']\", 'send:1199853829', \"send:['43673f85c34ecd7b8f00e2875c4cd90b788ea7612e5e66c2a350e65eea2b0ade', 'ab519319460615d9b68012699e54917ad5fdc4dfd5b33578dd931cddd9775192', '64c3c7a7282a07f863eeeea364a69a100b1b5d63429a7ce9c4c480f8cb2cae65', '2bd3c68250ddd96c193e05a24a8570290c7b23570b0bc041f36fe5ba4a20b518', '41f3d45a9d6f1f158a416879c62756948771de6cc01e89042ebaadf51563ac9a', '541b1b38f91dbe6271262974b961ebb504572f84d7711eeb108e0ccfb012dd38', 'aa297762034ce4e7b99c13ba0a47745f4c2cdd67f5e32c3f13c6cb70b79f3731', '75d70d5b8663cf10058686829fefa259dc849964d96725ef2807b3f13834b2df', 'b681a61125111b0a5dcc9be0bff7565c522415ccf7bb3963e17784718c6b151c', '1fb9cd132580237e04f2c9fd3611fdb7caa4161d9a41a3b2a3c63ea1414ccf51', '09de159f5e5144b98634989a303d63b2d62918e4156c510fb033a8108960b1c3', 'b95a0ba002e1dc00761a15faf3695eb684c6a8cd6804a14079ca0fdc44eced25', '432996fbe55365d49da8b1074f77c6687862b07ed53e1b0f542fe34f68bbb228']\", 'send:-1005372002', \"send:['58470c5b4c4e9030419c750136483c0d741c1520ced624af01868dfd35f620a1', 'd663c32484f23ce7fcb23ca402185ddc3391d6a36d72984e83fd45a890c437d7', 'faf537d2a1f4e1d0c14c310be6178494c6d4f961f7781076ded0fe7c2aa4305b', 'b825d26e48a071673f53b8621d161944334ca1964b7aac46dc663d1f1a207f70', 'da0290b9e60a138af34b4982c891ab4f94d0e3c0cbc04cda25975157d2ccdbe8', '6a4cab08423388e01dd38ffab206c059f749d4dda674df68465e3d5dfc28a2e8', '9525d0f3c84831523cea0db16cd43ae4dc80b47b6dc5e9de7904dd1a1cd80e7a', '929133f08c7d014abfa21043374bebc8481023209b4c5e7613e4512b8660ba8c', '536082f6809ce29b4ce7b9b817be3f56276703eb3919b4579fb8093b8f10d5cf', 'aa8b8e2340a18ec2c2e8081958ed518afa5e2a56b353b70cfdc6fd370db61860', '07bdd483572b29d1404470d1569b9e65333008ca2206598be0a4bf9bde113339', 'a2ef3e5c57d2ecf397c8e04e8bd1f7f7d2d45d5c74f710c986335f81c0682124', 'fcb09d90720e62f091d2b86efada9ce4c820b5860278d349998e66a4031ab936']\", 'send:504018922', \"send:['5281c2611055d136d3d24d2fa0b713cf0c484eb1e4800e35f1fda717269a332d', 'fd2295b11bcc24725a07d4750b75df095cb1db2ed66190416287ed9be2980ae6', '23416d2fc3db856ad05cc609279c65b5b5641531c6225a7b8b07aa52d15cf50d', '334334d07658cd8f68b465b5395eefb0ad82b2c4f39e0608dffbb5d5b476cc0d', '0fec4ad0763dc96fd6378aa35b74af5c686265639e7a61063d14fd414b711f7b', '9b23f0796ed008bd3ce7a868eb7323718fc6fd8deafa7c3674e3685f1c8676d7', '048a685813b63fc7942d8494dfd20d95d2639e4d17eec0b97a24ece18ce3e171', '612bd7140e949a2dc147832a7fdad0da83b018afe0ec2a5132728b7b9848dc4f', '6d4193fad75d3a60f4ec1b4a57b57c8be076112da0665ffcb9e7acc14dcf8af0', '0005f3af8eeb6052604a1280211eadeff322f5db400ca74291f3fbceda1e9014', 'b68626d040f543af963d33580548327580397b8c81c867c01e769e5dc4c1e1c2', 'f10416e4aec1dcd5b4e3c15f056b7d9eef8e2eac1b50d46649d31476c97136d9']\", 'send:-887752455', \"send:['3c391e57c90992405ad783188dc9c198b24dcee71c0d55abd454acd67350c446', '80df930ca7bffb53b05a42b3e0998129c4801409eac53e61c4a2d2110ae54a58', '877145140256c92c4aefeab56b66dc1855c967a62f3ad5a579eb24e11e835a46', '4b4864dd059af5e1bdf56a37c7a25a4dce1ec81d3a3ccc799a661a8480bf5bf3', '40b230f01ec4b88366d3507430158bb220e8dd4b51519a549b561f81a6a434d3', 'c76b8bdb6f16f669078eeccb5094e1bc4ab3b47a38eb640469f948302e4a0462', '7074c1cb92f5e71213a8e74f882d7ca861e97016d0dcdab12e081c84a328204e', 'a20c713a9ad5bec7663068b4c3cd82c612010737cfd0c8df411482b2bfc64374', 'eb94e969d092df955c42cf66c5f318e3bea175566e6a51f46cdbb79b22c1230a', '0a946141d2a38ce8c5a7babae39584f8ec1c821fbe789d39cc2bb9d88a6c0192', '35fb6f6ec189321a0b9e8f1f6eb9b10e94dd4c589383862132f940022c94d5ce', '9a364c87098cd97a4dc6d546e617ef2327ddbf5704ef8ef16e1239763f5b6602']\", 'send:-667109057', \"send:['281fbbcd65231b64f4ed7469afff41cdca966650c6e45e29280e7a090c658318', 'ef2c5e1b5a54b3f2dc5dca0c0acb2634d3f674b793a711d86fa97efd1ee249ae', '97a5107d77c9e5220af4ad0d94d1a39b733efeebf47ec51083ecb452b1644e25', '6c52487fb9dcb2c2e6b6a7b4716b978271f26c09d1c47b902eeb8da209f857d5', '7f24e5c1f1992fa8732fa4e28d56c24ccb3f50e58309238b354bf18e003f83eb', 'b958502d20700c9be054f67c8f96b8b0b1336d87edf76aead8281f461cf7f06b', 'e86f2f11e52ed5f5c2bec1afba2a3440cac52acc56737d58e0dc7cf0620b02ad', 'e76e2548844f2432d4dd4a88f7f40a5bb80e30db6be32e885596526fbc7f449c', 'dda3cdc70714bdd09741da51c94b93bb9e35c97cb1b4d6e14e022457b3064ab3', '48677ca42b5fab8cfa00620f57a9a35d8b7a97475e8608f43fa647733733021f', 'f98ab17f32fc1708c5e27ffc81447903f3ebb2d7137edf05eb30d713f1401426']\", 'send:948749357', \"send:['31752ba6f5635d89598d05b6c40151d854d6b81ccf8591d3a9f9ed691bebd0e8', '1541cd0a184e17284808b1ee7b07ff2a725c049dca55b713b2f040311e6b856c', 'b2b4a57b545158eb2db7c10d8f0fb0a695aacbf5b03294a45205a2a872c4f309', '8d2ed06adf5d6ca2ec60e56d73db21a6a0da81d81f03e843123f3e4d3d5c7da7', 'e2e0884214e5acd8a293e8a59a0fdc74ae686ed7ab0c113e7fd96c30428e82f2', 'df6e98e328c872aaf23ca6cd2d70f314fd2ab934ab909774558694d1a9ba126c', '5241e694b8556dee9855f0dd1f65699786b2bad1833c58eb977e455110b49443', 'd733ab99a0bea9f90d36d9f577cf18b79eaf9ed652b6b80d4f393aa03f4ca43e', 'a33d9dc6ff2b68853c8a4906e2727afab8bb3f4f20abb20587101729355d28f0', '56db02830334cf9763b90b2f2d1e6edd8beab65d59818c0139cf1569b236c9a3', '1a3782ba2414389373dbab9887560852dd3edeb8057222d0ce8777e78c4c5b4a']\", 'send:1440236786', \"send:['e1bb2ae3619c4a36eb5bce962cdcf08cf38334ec420863d22b155b415cac3f5a', '1753dffdfe226479187c3d4f8a828b47e01e78c51fa0b00453bb89c3f1497424', '15b63f1aaae1b014a2f3ec0e34645cf7bb034ca9c5762b60131fd0b2702a830f', 'b2cc5e340cc1a17b511f4062a397bc4cb25f5659b91cb94889e52dc538f5bd02', 'bbcb800d4153abb3d26594f926c30bb93ecd4cb1c709b14d2691d6e4dda8850f', 'a0f4804d7c174e38f250157e58712c70c0f0f8ca093449396caaf4a25787f948', 'f342f91e2b11d98fbbbcc84d3d1a851ba6463689a61ed6c2d15fc4d275f81d51', 'f91976207cf68dd26d6b1ba5685a734ab63661599e463baf1ebbada550065a10', '2f913137f28d8c44517c392e617233a4ed31ca98013b5494159c9a4b1717b4f7', 'a2139b0c69e5e195a020322f030073bb5c92b58d415e22ae240304d24304488c']\", 'send:-930264094', \"send:['1e2de6fea2637fc1ab7b8fd4d0807b87e30505ca8fc9c165a5642909e883edb2', '442953e7a0127f24f503841535e8c9c0a64f3eed7c235b4bf1607b9baece5515', '6aa84b552ddacb4b1f8f580c2556f51f28769223d0cc4265bf4c08a9b379fa78', 'bb6f1b58367afd351bce5f591b8e3b47774eca3f9ed2fad1e3ed5dbfff484db4', 'b3bc7ffc1c2f127cfde2a289a6ca928ea10940ac2329fb32e219fb39a6924b70', '902b7f775f2c91ec6965988630e6ae7b5e3df8edf410bdcda049da01d32b5176', '6e1f62fc3d15b34d872ba41e3669d3c3459c914dd8683a1acf18459e9f9c6ca1', '5d27953b5b536438bf935bfb0423050e164ee0151e67943820e864f7efb9dada', '018f7114ef791d1b9932adb11b578aa685d9b78a5eea8bade343a53d13b6d9b6', '66922c30acc3797db543a85acbab53e7b09e040dd9757829c5b4abb3b575cc48']\", 'send:982689275', \"send:['495bdd455fb6d0f1529fe805498f17456f0c4f18e8fb9731731da6f4b364ef68', '7afb24c61e6b6bc0c62f268a05973b98180172efee1a756c7c87efdcaaf2e8dd', 'c2103139557ab3e1560581bd654a2eb574b765f25872411d06cd91be218025a7', '6aeac3061383d5722d593194f9d3349017caa8b6454910d1704458341a2035ad', '583d46cc3696beee21e78e2b50f1c4a5de2feb7167c3eb0b3614b5958c3e2405', '76f37ae634a5f051d4f075eab6fc6a413f617a1d06ca37132b8198a772c524c1', '270f969107e2b17480a23f7718745f387090a4ff60e5f18eb01f0b0710621181', '215c9667f619d3de5372a16391197672775f58b83d50bd412bef935e9a54d593', 'd5e0082224edca10870d3cd65564159b04cd544c60cd31eaec508de727086b9b']\", 'send:-894244168', \"send:['b6062ad3bddecc57c318bf22e49ab32806178979bbc2e0ad093b964bc4a1e1c0', '7e431f38f0ec7e462bcc2b93f0ee62a924b3a43cd7494867985037936b464f51', 'ed80122a7e063b62eda5f4b329a3e1934f1f624066204cebde2091e6994ce553', 'a0781672aeef9bb5ab1d2b6f5e0fd17b04df4402818773525822f804b0db2a6d', 'e4189d048de343b6d3b589779d524df140897a7565248cd09fb96c9523a18330', '77f7dcdb5c7efc4b641609257373378b6ecf19fa787cb74415bcadc6cf571eda', '2386331e488382988bd4e35ec3856ee9dfc59dd4a8868a9efcc8e698fb49302b', '294fb2969729e938226557bec4a951a3cfcac277f13a9dcb0fd1c53155db5f4b', '9b8251548a18335ade38d68d59e0c044c97a7701b0ed20217066922f6cefe054']\", 'send:244185304', \"send:['db81e9d20eb7c764a3a77f7f4b5d9429b70713ef2bb402987c6f5da6427545b9', '359d40e7f5177a005682a20502ccad2943271b8fa7a34f8f51a6281c2ef6aa04', '945c887a6f50c798746de4f0dc429fbee80122a881dcdf577cf3a8652746b16d', '6cf08465104d1c87a859cb2668942f61d53aca42204ca9581b04f72ae35f5948', '5c8e024056300c9b3c2fc5edcf4ab9f734c87a612f97c24a70532af4f5880a6a', '1a40204df792469db32b53012e4e025e48568367ed2675848eccf173abcaad2f', '5bb8852101fc4f726cc9c251624bc66cae22128b1eb4f26d99d2fd782fada5e2', 'f9ab83ed6cd6bb74e3192d6c88e70647123cb038c2f2cfd117e416bfe8be4e33']\", 'send:-159086962', \"send:['7aebe31e8152317ccaefee5ad9697d8339f1f9f0a14843a39be538a62b418b16', 'bcacc753a3a514b7203388794b29c56e6d13244080cb056f41d364430e16af3d', 'acdebbb74751c37e267f4d101e4517d63f6e9befd845d2745d7a2b77b45da2c0', 'ff91460d885cc78bcadf31916d080398c0b0ec71ae43254424cba4730b595c67', 'bd1a02c40c83ac074f1d090a3c96917d6892da121a85d00812a2f40a10b6aee8', '2e8745a1c04fcce77e085b7264d95e88e400d81cde3efc27aaf8521ad015edfd', '5b2f24b019aa4c6b81c8e75558099b5bd34e67a29c120addb5c89036f86bc556', '4aefb0e690e2d86f174989d05ea153c43807a391320224c6b4cf26c99848e8c1']\", 'send:-10825715', \"send:['98eaffb763e8330eb0f1ff34479854eaca3215c535f1b4afa70a524a3cf9d3df', 'b0fed1543ee5362f51304a71c9298857357a13a5894f19e6c9561ef404ad309d', 'd7b941c7d39d981b1ad672c3399a08f0c01ba997623b5fefef9c45a7112cac15', '2203c8e6a2e93b128d23d9e90e0c6b1770902408cd673800e4d1aab804465489', '8ea05ca9aa373e52051c974535624267205501165826451668d0cddef65bba87', '4aefe79d4d6f49e63d5aaf103ea57dda410a7ed6dee8cca9ccbf65e4b698b79a', '199477cfa270e802ea531c6b3df930d881bdb824fbe94246fa81347be594e8b3']\", 'send:-1383306718', \"send:['a68b637361b17f8fa5f58c57ce8b654e05a0a6c45c5c3c76bafadb18d67d0111', '3dad20d416ef7c4ffb309b89877c6ba910bc3b6c02add20883376df1310b97b7', '875414bcece592eba27cb1cc8f2bbdcd3660345c2a5790ce9d531954aca0c99e', '43fc09a32bcbef19957c74a58fa53ed7624142c84ad5f05b05fd241048fc66be', 'b6398aca9f313a23d069621d991fa8e5c465e092d1b2b8d23e0ffaa4b8df109e', '0a4c1495d100b2fc08d4354e23722f15b17a22a07ecf9458cfd78faba54d3fa6', 'c834f94388c93b426b8ccb5316c5ef73d82f5577256dd958f1eeb7c97cdb0230']\", 'send:731005185', \"send:['8178f558d6bb70d6f6a25fa2d85251c98d51d0b66d5ea6db22c93b9e1d097acf', '42d2ca3956721b9cf67c1c7edef0d8266521d79a1663118ee2ac7ef77d0d0d5b', 'd101ccf5a1ec67c5dad908d7c60638bc8d353bf02bb967c4c304622ec86978fb', '44c262e36e81813d707a26d460d167ab29a5cee2d6cd3c4e51dfe6a144d897da', '748beb2bbdcb18bc637bd21dce243623bbc3d956e7b4a3058c1f10dee54730e3', '78589c14783903091008d3b6d131ab17e53f92c6731005ed05ec7dcce57885c4']\", 'send:1040353742', \"send:['7502bd84407856e848bea1178ed257364b6945548a70b7c38d785bb49434312e', '76bcdc4473f615375a9aa9db363a7432f0d33638f9a99c190ed86e1e5de05732', '86bb16fed6caca3bfbe2bd3f5ed8296fe0eb14b4ab3c20da4c1d88995afc826f', '11b5748052549f9bd1f41d1638305faa20f968c3b8bd1d9baa41fcdb3ca1737c', 'c0a230d29e252eea19d332dacdcb877862c822b142ffb0f1608fe0167eaf096c', '9b71ea507380b457b2ad72f1a89f1056e29f43338cbc348fbaeca7de845b52ce']\", 'send:-1165428450', \"send:['2c65a9e9d52215b2d62a9701cb8f7fd3e2f621349bb69ab2e0ba19fd7cd511e3', 'ecf5e2491f87baff3ed9516c73d33c90a8c71af5ab8ab94ead4b6b014a83c3e5', 'ade9be0b4a4d30cd5116c88dee55052cbe769f7591235763a1c396818c55b125', '873cdb269b6b06d6086cb4ade1e9064bc5b752cd1a3d1a1a694f2633806ad457', '8ae8d5afd37184f1140b6d92d904800e9b5c941650ad18c6747674d262ff27eb']\", 'send:-1340572603', \"send:['863de1b4a32fde827b37be5f00e8d4c5a86c1ae233eea1cac85febefd33fcbc2', '20df66d51bb156d7c51519e719a200a8cdc5789aceafc150bed6519a225cfa78', '23da4ffad1024907903e5cc64e0bb6112ef6b154d1a26d9b340c722f4cd35114', '1656a95bcc8cd79b9a3e237049261d5d373f829a7407e6368c7ea2400aed901a', 'f403dd3f3e50d4c4dc53e008f4c3ab7a07dc23a907acf2430c5b5cd27b36829e']\", 'send:1292690198', \"send:['4ce1b7d2e17fcb69f15752e4a0bda18fb1ca16470cce11c13ccb63f6922c6ceb', '2495eb45b9d2628400f89dcf5adc870fe8c2be40fe7f8b69584c808e45341f5a', 'e10a6853f08fafb5ef166f2a16802230658341543520bf6c220670f0c4d2778d', '2aecd180a29e603f3319b870aff5021bb303b7750a47bafe87ed285591b6541c']\", 'send:868562640', \"send:['a47394aa2eea2e32e12431b655b86d341817a863871736b57e1cc3fa208fd80d', '27358a3f77fd21f6255baf67a6da7e0256a1b5880d3b78ac3eb3698882746148', '5a587195d351f6e691f9a7f6371e1895965bfcd96994266033a90d73a6d737cc', 'fd32de9b94ac646375bcb38bc2d10c1d0b29cad31679644cc29e2cb508720dd6']\", 'send:807809296', 'receive_random_int:5501', 'send:246570458', \"send:['76f7d3d788bbf4ab1a4992b8363ace03b8c877db54e735017f2f8d98823acb93', '1e0f533d19224a58c5a8a7f18ea99d4e4aee80dfeee5fd3352fb8ba41f94f113', 'c97fb67448212f81141f7d9f27b111c9a819f42b8f5247bed624a50b61e445d9', 'de9f0c989ea5106dcf66887e93328dd06df8db234a6da325786ea96f1b59f320', '889b62fec84ccf2c360209a74821639bfc2ea755b93de1fe5f20ad55d6d9cd73', '32a6134bcccd372eb921c21a9742b4cdb7f6fea56e48723305704b5b9693858a', '13c0191a2f5b7514a3eb112ea78889388c71ed16a073d088265bc74271ee178b', '85bf3ff3117a4555d93aabcecd3993f7ff430846e43cf672bc4781d7d99f2ff9', '10bea02bb8b439b280cf4c51447f1208ac3548e66aeafba7d4513c897ce94297', '467d5616e70ccd8a5fd66777803814136b4cb02a744ad94c173b354a49641029', 'c1fa586f28ab57f6052862c0439067b68a87e523ddd7d09bf96d4a65fc6958cc', 'a59e5b85ea027cca4303b30275dd5dd810a245caa794dd5b98b5abe0436ce7e9', '87b9231d00c2f7a32e2105bfd0784e3d6b20208e70d969fb3c6fb51b50fa0802']\", 'send:-613854718', \"send:['76f7d3d788bbf4ab1a4992b8363ace03b8c877db54e735017f2f8d98823acb93', '1e0f533d19224a58c5a8a7f18ea99d4e4aee80dfeee5fd3352fb8ba41f94f113', 'c97fb67448212f81141f7d9f27b111c9a819f42b8f5247bed624a50b61e445d9', 'de9f0c989ea5106dcf66887e93328dd06df8db234a6da325786ea96f1b59f320', '889b62fec84ccf2c360209a74821639bfc2ea755b93de1fe5f20ad55d6d9cd73', 'bd34cc30a98112c6874e08951dd8493e30e6daa4239bac579f5b31320c91a39b', 'eb47c2b2b5bb70089e7599436f30b7a88ca7ffb2a41eb5988a3b123286430bc0', 'bd0ad1ccd40ba0f49e8c66066b261e06069d055d0574e4ae64ddba3a57af7e61', 'a3197f44b0d4fd9088dd686ea7abd0733a0726a80acc9d88ecd16a7fd6be3bd9', 'a44f37ccee191d18740b76142b6a7680f532e6b73d264bbe5b4a2583c363a5d6', 'eb8eefe3748a24a66e6b51f64c2fe10a5cefb039c37523752a354b8752b2c408', '89ba2c1f4cf8ba8b3282bf13117c72b6c2254ae4b9e59d0d43f061ace58383cf', '0165c7b2f00e63caeb26b48d1fde12041ac689d5ca20479f7d5e3c6da012668a']\", 'send:-960743020', \"send:['76f7d3d788bbf4ab1a4992b8363ace03b8c877db54e735017f2f8d98823acb93', '1e0f533d19224a58c5a8a7f18ea99d4e4aee80dfeee5fd3352fb8ba41f94f113', 'c97fb67448212f81141f7d9f27b111c9a819f42b8f5247bed624a50b61e445d9', 'de9f0c989ea5106dcf66887e93328dd06df8db234a6da325786ea96f1b59f320', '889b62fec84ccf2c360209a74821639bfc2ea755b93de1fe5f20ad55d6d9cd73', 'bd34cc30a98112c6874e08951dd8493e30e6daa4239bac579f5b31320c91a39b', 'eb47c2b2b5bb70089e7599436f30b7a88ca7ffb2a41eb5988a3b123286430bc0', 'bd0ad1ccd40ba0f49e8c66066b261e06069d055d0574e4ae64ddba3a57af7e61', 'a3197f44b0d4fd9088dd686ea7abd0733a0726a80acc9d88ecd16a7fd6be3bd9', 'e29e24094778b6f6b6899c64ed77fef41add810ed98a50c502c5f59e91633054', '6becf71467f1e2bbe6540c627363f53052ba3afdeea61ecfc95416effffe3c0a', '2d1d34eb5067d7d82d82238d9c6b69d5e6420eb7c7341cbfce8b3058970ca202', '99c3b12e5209de9e8d127309d7436868a0b1fbb1449db85327db4ce2be0be1ee']\", 'send:-1093239246', \"send:['43673f85c34ecd7b8f00e2875c4cd90b788ea7612e5e66c2a350e65eea2b0ade', '947258393415530560a2668f232260cea7541160a2dd21d270a5ffc086d75ab0', '05072a5ab7475dbfd254c34687d059e7235ab6a239803cf957f89c4574f1f4db', '925bee81026c70b49516b61f131d1392b295bc34cd974ce772fd1f839531e647', 'b1a7f7cdce7cf73bbed1f9ab7bb03104657c11c03fd72e37ef5e802f0ee57934', 'd6b24d0d30ab7436a924da22eebac5d3910ce8cff3722ba7c501c4b58ee0342e', '98794529dc445790c9b9951abc555600bdacda56563a3133a98260e706f87de7', 'de2c1101f6451dcfdcc8f549e616b3e42f5dfa063f860c0eddaf2d3a6dfe6148', '1d5183ab0e8c451b8c473ce1f4047ce08f8532c9843e3e6a1673258dd868cc38', '4fe2be0f44700ff25590ae6fb92b93b8fdcb56a21cadf722b795f5715f143ae1', '117125b940216ba9f379b6b69897e5415136096f982490da326d9295fe501fc1', 'f60110941a210769c29f1f8f17b48a352f8e7933b2cac9314850e07c9ec09212', '15ad89daed02435943b715b76bf593f17bd286c6c023bc8eb8c86981f3a514e0']\", 'send:858967652', \"send:['58470c5b4c4e9030419c750136483c0d741c1520ced624af01868dfd35f620a1', 'a212909ae4c462372dee17f41f82c8d4d865e250361cb3358bfaa3506099e344', '89541be5ac18375bc219a8064d2bb92569ec7dd39ee18bfae5d18cd1c133ab50', '7b5dfc651b860741181af454fef951498df764301591d849f874566e96225e46', '43c9a466ab352d3f77cfe4c086685faeb1b6a9e29d78dba601fe396578368f59', '1f5c3e05a65b23e9fb11162ec033b6e7b8b3f11215c4bdf9c2482bfac1fe56ab', '620464025517516328b81d4555fd37424f61ceadc620eb346d317b5f8b2f91b2', 'cacec08f28a8748e96f61a1fc53cf2e1f369a2e80f712e6c64f48981fecc9ec7', '160b3221004a0a29cd5b13708269f924efbf2e3074538076e1e10531bc8dc34e', '5590a5823c4c1b8d5dcae5730700e867016237c55cf7de65c78af3f502f9f792', '572fc0c967af79fa89e227c55a4294bd168b718e8f9e1904236dd19a72fbf2ea', '5b90ca481f04c06030fc3d18fc8f9a816d29e8130f2d7f7d98ddb4e12ee32a50', '7515bcc52c8f1f2e082dd26f80133014c837ae6e3d64f57972ba86ddd9afec23']\", 'send:-1249615314', \"send:['3c391e57c90992405ad783188dc9c198b24dcee71c0d55abd454acd67350c446', 'e388ce05e5bde486943fca5328f9cbbd591fa9c95884f50b9326f7fb82d48675', '6a55ffbd61b0e8f4a99d0596fc318bfbd30513192aa441e3987d571845865b79', 'aab8ec19262ff7d6cfeab586395c37dc5093458b4f5ec207a9ee117bb2631479', 'ee32a82627a8008b4fd02765117dc3bc15c1ffa0b3ac1e7966c7bc4af3dce013', 'f9ac8d84e0867f943a05e3cfa32c0321d263bb204b6badb083e7eb81f2e20034', '448290c93bac4f02d7f7f7ea5de21426e31d38bf73c5ad57a0791628d65df00c', 'b826c01784019fb54fcaee285c5fedc7b7650aa68d16f85892f2ce5d8b17ada4', '23f7bc5bf6ad51e615d13e57becc8e0b735b8b77acccbed9877483736a5bd8be', '008219b23e8c14752fe0cecd2a8c07a14c9a5c3d3f0b8a8770b5c69c337fdd00', '86d3caef9858b428ada094d86c3ea83a13d0e4103ce774051d17fb8259379b18', 'f1dec83d7a486f8e25a319dd3399032d4d4d33719d93c1430e03849e4b191a52']\", 'send:-982390554', \"send:['5281c2611055d136d3d24d2fa0b713cf0c484eb1e4800e35f1fda717269a332d', '7c8bae83238fe709d2d369f3d5bf1bce0b4b6eaa35dba9800663b06d51c91a54', '39c801ec875519f8795b8b5806bd62263bf0873afc4f2c3661f15a3b8161583c', 'c11efc689a46f00a7cb1bccb5e3f80fb83c747c94934030270569b2b435142b4', 'b798c27c41d4681191f72e27bf23f9ad18639d0607284d78fdaafbface37dc4a', 'c148347ee543114a64712c03a50653a929b25e72ab4000abc399e7ca36b81853', 'fa314133e19d9b9968241d3cbfd5892863d514df0b850c65cd1884a5efe33abd', '10b93f66e73c5fd749c31126ecb2f6de35c096a46bbc5e3e9e9b216f5c4e413a', 'dc8ae8da20e2b9aa293a06c1a9675c70ef0860a19d8b53969e77d6c6e9d444c4', 'd704b3dd06e41ec776a324ad5eb3d913fbf3fa40ccc5bb5bce22537a3b8b7951', '6a7056fbbeb859b76748b1ae4d816a5d633d36eca91171ed3cb9a57432299d77', 'd569ac2737975ac424b4767a2c94486d621e0ce0facb7b4f4cd8161740f809ff']\", 'send:-1215431639', \"send:['31752ba6f5635d89598d05b6c40151d854d6b81ccf8591d3a9f9ed691bebd0e8', 'f8d7f8ed69eb70578e3f74f8f3bfecb818d96b3f01277879f7c4b2be7e5126ad', '6c84f5538eaf745266af524dd69c2720f4b0d139273bfcffe6db72482432cd89', '6279e70061fe822b592774ce2eb0cfbf50e9786227b0b5b369081c7df6122284', 'e32231194851297f9b17f0771cdf401ebb830d074294c546d05ed797dfab12e1', '610e7de8f2d462f3c9cb6f74f77aed30329864e8e5728640e04cfac878fb05b9', '5f50422e3016362d79ff70252ddc1ee1a1e9f4eea3d2d0f2ccab0a7577018a35', '94965ebc86bdedde0e7a493cff15bf6d10ccf3045663131898057d92c00c5ca3', '9e224a5322d4d20edfedab5f348eb0a065e06ae5592e9f07cd90a73ebb1fa554', 'ca6ceec60d4c869e9b98ce694e4d391f654381927c0720b6758d35498bf4965b', '255ddd7c6fdfc2a16df7ebe1d83dd027eb3c17f39d87bc8c2fb128788dd687eb']\", 'send:1582843839', \"send:['281fbbcd65231b64f4ed7469afff41cdca966650c6e45e29280e7a090c658318', 'ae1075fa9209c39481aacb3b3175d7dd355fd6ba5def7356668e09a3de68351f', '6082fb924d55004f6185d6b4f9c1a6996c9be02de6ca4509997b7ca72c3d78bb', '1883a5a3249719357d19ee46578ad2e0eaa8ca342462fbddb007dd3c66d49075', '95914b36681700c224e9dde787e6304ce393867eb18ea63af1f7648def07d565', 'd55ee8e7f4ae6618055f675d74b998716175604c16afaf748d5c928d8b69e796', 'ff5e0958224810c3ac2ba056fc9ed49e3c31a0cbdc92abc9511ff544034447bf', 'f9c3fe5c9bce5a9d18ce20df14e9e391444af5bad7d9e83e3d4754d88678716a', '6f55a735f1a94b261313128e08fd623b95185b0aca1ecd265bc389215dc13c8a', '6dae18df6b96aadb42f4e16b43476fe5c39b42e44f66cf231b6f3ed5f90a6e5c', '69e13aa44dc0dd2ae3109854055cfd85850c33853f438ec243f7a2e08fcdc37f']\", 'send:4698025', \"send:['1e2de6fea2637fc1ab7b8fd4d0807b87e30505ca8fc9c165a5642909e883edb2', '1848281479720afe57211f95d2cbc4769681c1f0a9620e65a3b2d3fcd486e11d', '688515e9425ef1714fde73a820012a7476ce0030359a2eba35e76e5b23a69d6f', '8b28a06a273d4d11c581f7ff6502245a1bdee694dfcfd4ffe4ac13046ba6f3ca', '96ed42c673e303369f4a9c4719bb3cdac65277e2287e26668aea923cf4446ab6', 'bfd9eced54b2f785a2f2f58c1bdbab60c684ac5bd77eede8f3a0eb500306da20', '79500364e9398a09a0a2c99b21a984fb65649dadc8f050615451fb8d73aef54a', 'a94d88e22da4361539c18024823476a1d450597ebdbf8ff9ffb418c39fbd40eb', '1098a506a8d410d63a85ec7acde44b9a25bafd18aef39cfc3054e20305e4d37f', 'dff8a393e55c99ae66d98567dbd389212473bd9d51482622ba83b58685f802f8']\", 'send:1326787773', \"send:['e1bb2ae3619c4a36eb5bce962cdcf08cf38334ec420863d22b155b415cac3f5a', '5a6d0676fb1eeb342cc999ad72d721e31a2dae6cc869650a95131c04724ae248', '66f17b72cdec5ad307ad8365a13a6aba7ff24298691ea8e7203bc6de6008ed88', '02c962ac8c011d3b1d1b663e8cff2816911b67f918169839df2837764de60a0e', '6845a3eddbd5918d628248b31e79cfcc97a7b8baf404fee843588da0dd740228', 'a82d3c6d0514f668b9cc3407e650409dcbd1a5b3cff80aa074acd7b3ecb7de55', '293d56763d9cee3ac85d9b9e0518fd5aea1b108443f045636615e5e5f6b29cd9', '9218ef124d44ccee2f6f30f84acdf688a137bcd19eaef831b67b6d2e48f0c859', 'c36cf8d3d53a4c798996a82e3d00cbc60be49560b69eb28676e0bb55cc422c97', '8b4f0395ac2d698332828a6e1350a521e5a19432b15a3c289374236b13dfc7e0']\", 'send:-1272252947', \"send:['b6062ad3bddecc57c318bf22e49ab32806178979bbc2e0ad093b964bc4a1e1c0', '7e431f38f0ec7e462bcc2b93f0ee62a924b3a43cd7494867985037936b464f51', 'ed80122a7e063b62eda5f4b329a3e1934f1f624066204cebde2091e6994ce553', '76e74624c370d0e40efda044dc5bb4c85f2b89e02a6676c16c3652bb0e2e5e0d', '49a7417e7798fb4b84e186c7d8fa1c24628a9b9daaa8fb3dbca62c33e53353bb', '003cce8cf40d0117b8c3d74d98d453a7236b025353744f029f66bd26f0cbd42b', 'fead1893a5b9651cece7c75aaee9d297cdc8256f44b5ce877af35bd8e2e8d124', 'a11d3f46ef5532dfb69c0d49c5b69510260b88a111f34115fd22f7e0bd4bed37', 'aa165a90827e2c3012764a364de570cd2fd4f9fcd2f955efd1af4e506c7861af']\", 'send:-1351342180', \"send:['495bdd455fb6d0f1529fe805498f17456f0c4f18e8fb9731731da6f4b364ef68', '7afb24c61e6b6bc0c62f268a05973b98180172efee1a756c7c87efdcaaf2e8dd', 'c2103139557ab3e1560581bd654a2eb574b765f25872411d06cd91be218025a7', '2660a744b8ee608fb3ba90005bcd2dafd6fc7f9783e967af7853c3eebf076c0b', '32d46e18d5face0092e4152e14e30d18106e64cea25a555ba15942d7ac83cc3d', '80f667176b682407872188aa91baa522922af7fe14f32e16aaa1573002040420', 'bb68ddec1da03f389b323222564e9b632ff7aa9095b6daf16bd776c85e399533', '43d4ebde8aa5a447c87a355254034414d9633d3a26210c3460d6ecfffcafed36', '054a3447c5c7792e483536bab33126401fb59fcd9cdf00496f6f2ef565a1c91e']\", 'send:177202275', \"send:['db81e9d20eb7c764a3a77f7f4b5d9429b70713ef2bb402987c6f5da6427545b9', '359d40e7f5177a005682a20502ccad2943271b8fa7a34f8f51a6281c2ef6aa04', 'c528c8cd6b35f6be5cda9da828797355495cbeb10050c2e7ffc7486590267761', '99242e4a268df76ad9f8f54f2224dd54a7561ce683d693718b2fc0215eda71de', 'c81e6d1f3e51bedcc33a63ee024c5b23e1bac0e23e079634c753ea5a086d79da', '4abd55039fdf61bd868b91cec91f1510d591bb0de9e74709983c39a9f79bc916', 'b99fd14aa2d0a7f07914de499e724697ce5abdddebb44081302b8e0315b94f95', 'b899679f6df1baa016f7c12cde1a4acb544b55ee6922686f3556be5b8dbb191d']\", 'send:494410681', \"send:['7aebe31e8152317ccaefee5ad9697d8339f1f9f0a14843a39be538a62b418b16', 'bcacc753a3a514b7203388794b29c56e6d13244080cb056f41d364430e16af3d', '7a2899c2db7ef9297247d023d5c4c25136daf00b60861a8f872ab7a9fbd42be1', '600b24b6221e9e9e38a9de3d3dc5aff58f4b0177c726c9e1b2fbac3ada2666f3', '9cf461b31627ece125237ba5d3d0a2af68be44367cbe26198bc8ebcf28d3458e', '76a5d351df424f2e3927ba88a67ad707a65c30f32ed0b4172b3862ed1c5ce541', '766848cc298f0d6df18d08dfe19520cb89363103cdbedca828edf2ef001400d4', '54c520a571c4a80363530f3d7110a23f654d5363115bcf2e0153274ada4228ab']\", 'send:-564265699', \"send:['98eaffb763e8330eb0f1ff34479854eaca3215c535f1b4afa70a524a3cf9d3df', '04a4645baa651c2b3459f5024f596bb511ab0ed37604523b37c4bef307ea4a33', '3dc1fe777e07155a68bdc7e439a520197034832fd80fa8786019aff786c1e16f', '4958a616583551596abc4ef2bf268d3cd7a7224f403e40d38afcf7a2bca5c668', '8693e7221413d44679798b1111e058f04dfeacf25da1c4819780a33e3f5c95ae', '04fef3b56e62c045ebcbf88a4274bee0ea6a8dbfab9a09d2c6e5ac9c8233d8aa', '17b6d016163359fffa8657955096c2c6053fec8580a1efb507f5b5aee7f1cda6']\", 'send:741688468', \"send:['a68b637361b17f8fa5f58c57ce8b654e05a0a6c45c5c3c76bafadb18d67d0111', 'e5dbce62393e0869fb33dd7bfd2fbb7be80297bf8e65e58ad669f9b7665fb011', 'a132d08a6dbde809619d30513717102fa7fbdf2cfb083ff598ff28f6c6d8285d', 'a5327142a1c2a513e8f7b29f23fec0132d6da03dfc2f36802cdee6e8c4427c3e', '3f75c1f65b55441dbc4622c48901756fd29c37a972072a6c6c75b481ef031ccc', 'd2d506b53124bf9ce851e4d85f3e03377fb6e8e8b586a8c06110887ce65d442a', '51403a1e2905d0311e6bd93a453a1a94252904b1f37c4a11aed3445e4b8d9986']\", 'send:-1519006627', \"send:['7502bd84407856e848bea1178ed257364b6945548a70b7c38d785bb49434312e', '76bcdc4473f615375a9aa9db363a7432f0d33638f9a99c190ed86e1e5de05732', '86bb16fed6caca3bfbe2bd3f5ed8296fe0eb14b4ab3c20da4c1d88995afc826f', 'a4ccf7728d4fc96032b52690ba953ec39fb892a4d7559f375305d4a560f3df15', '948f14f6c09374db8c2e284a78084651765a63796186e3f6c10fa2188002f691', 'bf6e13bfa0aa21da625b8589b0cd9737b3cfab698eccf5713170e937811ea6f2']\", 'send:655565897', \"send:['8178f558d6bb70d6f6a25fa2d85251c98d51d0b66d5ea6db22c93b9e1d097acf', '42d2ca3956721b9cf67c1c7edef0d8266521d79a1663118ee2ac7ef77d0d0d5b', 'd101ccf5a1ec67c5dad908d7c60638bc8d353bf02bb967c4c304622ec86978fb', '481a65fb848515e67eff8778b4f030ce0d9ea95c58c453c3e048ca770894a91d', '6959f19693a55f726d04a98213ab30d31769f0f3c6def9c5fda4235e2f313dce', '888ef786de57d488b49eba3894478000863538f6d33e68fbedc3adcdd1fa3c6d']\", 'send:-948718747', \"send:['2c65a9e9d52215b2d62a9701cb8f7fd3e2f621349bb69ab2e0ba19fd7cd511e3', 'ecf5e2491f87baff3ed9516c73d33c90a8c71af5ab8ab94ead4b6b014a83c3e5', '6bb3973ce1fa7ce1063639a95d803023d292818927fa5770ea26d9b9a6c3d09e', '574a4051a845dcba6921b695baff16ff01fe2e5c2898be1dda99ef4bc2e00390', 'fb0b2ba6f461e15bfa9bb178c3a8b2bc9beb2b3a4a04c5b67067b028faae1d4b']\", 'send:610712216', \"send:['863de1b4a32fde827b37be5f00e8d4c5a86c1ae233eea1cac85febefd33fcbc2', '20df66d51bb156d7c51519e719a200a8cdc5789aceafc150bed6519a225cfa78', 'f632f47356b0acba7edfe9860001f654cb037a9a0fefdc9e4c82b94acd621f0d', 'd9314e8f99f7445e797c29760509857ffdf222c9b3b8d566788d904184807cac', '821f5cba8cccd7822035e59f97916be44810aa1917fd09d457ff8deb29c1d76a']\", 'send:-1498461178', \"send:['4ce1b7d2e17fcb69f15752e4a0bda18fb1ca16470cce11c13ccb63f6922c6ceb', '33ad737bee27463c27dec39d101779c09b5e67e9e7003628e689fa12e6c90a02', '5244d33de267da7c4ba8f9924bc721f2ebd815bc8fe2811c32694d4891a4e050', '3bc642ca558978b0b0436ee171963fa39ab9c23362097c6391fa905e8c1f3067']\", 'send:438488543', \"send:['a47394aa2eea2e32e12431b655b86d341817a863871736b57e1cc3fa208fd80d', 'fe9b0382b3cb0f6842f88df6ce2fdb4ca9c5cb64c00f50635482dc24018c5027', 'f22dc475179b89d4015140efe67f7da487e530af3f5072aa70b83e41c03eaaf3', '478f185e3ed0ddf96cc8c8480f0167a5219611a99172ed99fbfbb632fc5eab38']\", 'send:807809296', 'receive_random_int:211', 'send:-997071010', \"send:['fd22d0af72c43247ce70d7ee3f6532037e95555386934dc886c455e26f8a4675', '479e1ac8d089851697122112f2ea40be8a9933c4684acb604611bd05733503de', 'b56136759f5cef136f6b3cbdd36486f1c8526580bd40f9667aa37fa0a8918376', 'c4b16ec527e380cfa8fb672b87820cb604a844d13097eee040db3407e7c5f71c', '5c4b2a7bfc6eac1bcc8a055de8a874263a6a000e2a8f3fbd3c47741f76059d98', 'ae4c4b360cee604ce0083348cf5d98240a8d63ee0de523259b5fe4c4cdb3856d', '4eede5eefa420cbb55746985d397151a8d6d4d6ee5cd3a80e46b86b6b8500cc7', '3f0ad8882195b1313bbc5eaa289d7d4ad2c9a948fd92c74e5791e8e07e669d91', 'ea724b928e50431c0852df678a9c9deed3ea85913a16c71114a0915d6d507e50', '7fcc201a3393af0e0a72f91b2c06bf76ac26849e5459aba8e8cdc735a9331339', 'a86e2047a963003265b3c7ea6a93f73e4760a9fbca2476ab2d93d99e81985a51', '69d57d6207b802dee758020a7dbff4a00a118fe435ebbe4fda531ca29004a727', '9f8951589305d2a70fbe245d7d12b24efdc8a75a703f424e9fae6321b7b6ba4a']\", 'send:1324993433', \"send:['fd22d0af72c43247ce70d7ee3f6532037e95555386934dc886c455e26f8a4675', '479e1ac8d089851697122112f2ea40be8a9933c4684acb604611bd05733503de', 'b56136759f5cef136f6b3cbdd36486f1c8526580bd40f9667aa37fa0a8918376', 'c4b16ec527e380cfa8fb672b87820cb604a844d13097eee040db3407e7c5f71c', '5c4b2a7bfc6eac1bcc8a055de8a874263a6a000e2a8f3fbd3c47741f76059d98', 'ae4c4b360cee604ce0083348cf5d98240a8d63ee0de523259b5fe4c4cdb3856d', '4eede5eefa420cbb55746985d397151a8d6d4d6ee5cd3a80e46b86b6b8500cc7', '3f0ad8882195b1313bbc5eaa289d7d4ad2c9a948fd92c74e5791e8e07e669d91', 'ea724b928e50431c0852df678a9c9deed3ea85913a16c71114a0915d6d507e50', 'cc058b090fd21d80ee6d9e89693d50d219650fe4995a73dc3a65ad1bd4b16941', 'df5dc5fbb434244b8f44c7601ff52cad64e1f550cb928d1f49001bdfebbd164d', '2aa07c1218a537897b50d4b47bb9049352216cbbbc9792c0d594bddf614b172f', '567cd20cc7f0396209ed76d0bb2b6358f168bc758532a025db590be55652c8cf']\", 'send:-633432853', \"send:['fd22d0af72c43247ce70d7ee3f6532037e95555386934dc886c455e26f8a4675', '479e1ac8d089851697122112f2ea40be8a9933c4684acb604611bd05733503de', 'b56136759f5cef136f6b3cbdd36486f1c8526580bd40f9667aa37fa0a8918376', 'c4b16ec527e380cfa8fb672b87820cb604a844d13097eee040db3407e7c5f71c', '5c4b2a7bfc6eac1bcc8a055de8a874263a6a000e2a8f3fbd3c47741f76059d98', 'ae4c4b360cee604ce0083348cf5d98240a8d63ee0de523259b5fe4c4cdb3856d', '4eede5eefa420cbb55746985d397151a8d6d4d6ee5cd3a80e46b86b6b8500cc7', 'a01f9d6d94a5543fd4d90fd8a7455cc34ab5eb1a90e111056085ac1883bfa397', '59211643d551ef01591acb63624ded60d5bd6e2c15b7aaad32f956692e85ea65', 'b50b78a221f5149cd9a2dfcc9e4414dd170ef7d479f6fc97b560a9ef9dc8073f', 'f03837805f082ae3812e191a741d106ad1df6234ae34967d9b53152a232828a5', '83a3f7f80e497c0c656791fd61ce169ff86c4f9dc14f641bcafadaaf557de8be', '941ac63ee559b448831a52a3eb413585e57d563c15eb2c43e92b5471641caa2c']\", 'send:1583739691', \"send:['58470c5b4c4e9030419c750136483c0d741c1520ced624af01868dfd35f620a1', 'a212909ae4c462372dee17f41f82c8d4d865e250361cb3358bfaa3506099e344', '9b4aee4486bd8cf0a2ce948970800b52cc10b290d9e272f222c56f8b754524d7', 'b0f7c185837f8ef90e9dff2ca06f40c4b60687ab86e9667c55ef2623a0ab2aa3', '913237e82e4b3bf360f464efc1ba51abcd0eb75a2600a2e9c43aaa0fc9359349', '0616ffad7a8a8bc32c6393c357a767791f621aeb669fb65ce8c849dc6aa4de9b', '8654ec7a3ab633712f843804fe271f1220ccd364b45b1dc402461dd1a7435e52', '70197c74bcaeed8a933b3f32bc93efc562692da349fb4ee56c77ee24ada7369d', '354a0cccff152a5a92d9f6c91118086bc468386b87165b8f088b5b3433972840', '91ead5c137aa76b415c55f1757b983605032ee4dd61e42e89c2bb821d5678459', 'bba7b1082aebde2dc69f3f4f94016fd84ddb34dfab2b60937b2c911c4d7e2568', '940ef5c82bf146c1b3b80c99e9d7cb138376e2b40c1fe6c1593a1ee4bb9ad30f', '771954245797675e90ef4dcf025422c71a726d3f1ef190a065a6f155f535b9aa']\", 'send:-1503322825', \"send:['43673f85c34ecd7b8f00e2875c4cd90b788ea7612e5e66c2a350e65eea2b0ade', '947258393415530560a2668f232260cea7541160a2dd21d270a5ffc086d75ab0', 'ecaf80e99fe6f4505b4e5f710b4521588c87f69d23281c0cb539b8f572d222a5', '02a7f0270d6a201daf95427930217d572963c78361202eec8542f6abc70932a3', '70e9b43b392f086049c627dfbf5ffdcc770ad1e1a8256a18bff60204d1395579', '2b510fbb00fd27924ccf61d9b59f1be3965779f4dab4b3bca525dc1782d69db7', '72b1836c0c4c7ad7fd8a81614f9afe73a67aa1d08c490e4bef8915229b38176f', 'c73a2055e08577df68364ce0124278b461601ed7c26b5ff738c09b18a576e1b1', 'e5eaed7731b69fe960f5b8838dd5e8c8b3f19f0a2a514a8ed55d182e16357f65', '204c1944046ba1864551a6c6a4178adabf3f9f3d7126551171c1ca28a94400bc', '567ecd21cb16e29a82b30265056c798d62fc65c1f84446afe8914208ec8b2ddc', 'a6bf28ea0c0a17e613daae1a5b54a756c8869690464b05dbf2fa76e5ba35ca64', '54e3e2987b10b25ea18e96ea4f2181f773130d5d8e67d711b3001159e5b09ab5']\", 'send:-1331239552', \"send:['3c391e57c90992405ad783188dc9c198b24dcee71c0d55abd454acd67350c446', '80df930ca7bffb53b05a42b3e0998129c4801409eac53e61c4a2d2110ae54a58', 'e81a60b1027698c5b8b2acbbfff36429669524fe91a102e55f1777d0e875c767', '179ae85170a7e895d8af2e04d255fa2ef78dd865cc5a145aefd058be8db60023', '576c67a52cdc2f43a5c47f6f3339585a27cbcc5264a131781f2528f1e946fd8c', 'cdd8949c007d8036ffced3a87334ed17997402cb66e18006a9de6dba248b3d9e', 'cdb25d3f90efa6c1e40242f05d334674f3513e86f9a631c97d09a19f94a98aa6', '676b37fcc4e3122c1313e770159856c14b7deaea82c4dd4d121c3d256ef9c590', '00c17c422be0085a598e4b51a6dc6b75093963b7efd7cf1f8b8ac73a4ed99cf9', '3869a75ed235c9b7e48bfc257db9f2d09696b5290bdc8eb5d1b4d3acb2d313db', 'e3e88179cf58b292835df16632cd0f645c39429c513b7a6fde83290a00f1836a', 'ca95fae367510bb68d8a6513d53159af4da6da6877a95bd07c2a95393cd76fa9']\", 'send:-193787174', \"send:['5281c2611055d136d3d24d2fa0b713cf0c484eb1e4800e35f1fda717269a332d', 'fd2295b11bcc24725a07d4750b75df095cb1db2ed66190416287ed9be2980ae6', '39b5ae5f4b8e3b259a691704cbc7a0b69c94cba7518aa005e8bc30cd8a71ae86', '174b00d88be9a4b81596c0348262fbc546a78cd25ae181107e8bfe724ecc133b', 'db95080ceb3d90ec5c840c7e66fca3579fff40b4608ae513c8d66c123d820704', 'db5d2506ea8991def50c0999ef93048491bda5f41c8655256f71f2ed00e4965f', 'fb8bc817b1dc1d858e5a8000dbe531ffddb57083548a338efff51852de571bf2', '72f762cac64b399fc8f1a6c2f68216a01a1ea3b15d11debe583a1e1316563d5d', '1455dc2fca7418482eb4fc75cbc21b63c17b2fc8127aea2355d8c08d33e711a9', 'b8c84f569d896771b5a402cf6ee3440f692df881344645c04aa5b703056b8c2e', '5041305a28029d4da77296b098048ba7d1e2d4ed016c5604e4bb01054fda8e1d', '7ef80201e679cafc20059d6df377e250ba6782a3609f0199285a2596b82416b2']\", 'send:-1506377659', \"send:['281fbbcd65231b64f4ed7469afff41cdca966650c6e45e29280e7a090c658318', 'ae1075fa9209c39481aacb3b3175d7dd355fd6ba5def7356668e09a3de68351f', '0be19423aa3123beb56066ae605db8be23e38af559e74b1e1a64cebc10dca3e0', 'c11e65ee96c4548acd0a8a2313e66ca008c50644b9d8ea2b5c56821f67b4ed11', 'f1f876a81e2227727c2d0f0606496b23645e6fc7818a6ba5cbc7d7b83a3a4258', '2c69ccd58905ae3eb5dff8393194f64e60c6dcc5b44b11bd8106e8f645bc5c70', 'f520eac5496d5e8e7b1703e96cddfa5f414db7ec6dfc8ca2c272956d9b4d2272', 'cb59f07bc085fd2e30ce1330d582a51a2bdf710a68bfa7ff0bc86bd17a804554', '93780113b7a01c6f0affbedbf50b1891276f9460b712c53da8faad66c944eaa2', 'abb4b2ce093d1b2c322e58e0d394a9d4e2ce5b92201aeda355be7755eff9050d', '11409533e54cc8dc5fc1030790feb36f0fb121d6a810ed1a4806d7e6f3a2aea3']\", 'send:-13142218', \"send:['31752ba6f5635d89598d05b6c40151d854d6b81ccf8591d3a9f9ed691bebd0e8', 'f8d7f8ed69eb70578e3f74f8f3bfecb818d96b3f01277879f7c4b2be7e5126ad', '7288b12fd52edab0c80133e218937cbe3024f651a714500392d909f32bc1a364', 'c41a53dfa3fb25d7bd0b5f56ce9e6ad1f20e26789777df0d73e53393f07281b2', '2b86c47fd93f7af149d52db0fdee4ec852b177b7aab083cdf9db89a2a9df57a5', '89f0cedfef3b962df9c42c1e05a4014a5878205df5e875e7a597d404024a26f4', 'ba87da5475cd229afece0d626961230ae802f0e006b4704d6d5dc6747f359b97', '2714035c70f8921f0d081c896a897e98778fea484ce11a0ead18d76333af42bf', 'd608f0e527044075de397c1f1f58dfb5e24cb8ea5ad18e8cf614bc262b276446', '9d0189aa488d01432d617c3b4003bbf5934d4e70d7ecc0749eb3daaead90e43f', 'f3508631d6ec09262b67eb42050c498781bec2d0452fd0e9545da63f8356af6e']\", 'send:-851330008', \"send:['1e2de6fea2637fc1ab7b8fd4d0807b87e30505ca8fc9c165a5642909e883edb2', '442953e7a0127f24f503841535e8c9c0a64f3eed7c235b4bf1607b9baece5515', 'b78b378610e67ad9c7eba1520cc2626b7dbea42ac6ca7b308a2dee9994986ac6', 'ac320029e76af02afdd9297da58b02f42206419bb2f7beba9f6f2be9204ed6fc', '06013db9e2a7021689277bfd1ea964cff10f2f8392f9bbbf1f04434b77d86b8d', '8e8db537cf4bf950053d9243f0bfe8caee9b7472c234b3305c76bf9dfd453cc5', '135fd981312e68917e59879bd045a2cafea608db69f42e2363bbbd0bfbc9fbc2', '39359fd6ae41af672c24c4660dee666ac60492b974a98edc0847dc361d60a793', 'd4b52abe8e42c4dee29e645ec9f1808df6aed771e369502571ec9e874714088c', '397ebd2b10d8ab3944e6a5c12f17be25b78f185474842381a726dc5bffab50c2']\", 'send:-1173493772', \"send:['e1bb2ae3619c4a36eb5bce962cdcf08cf38334ec420863d22b155b415cac3f5a', '1753dffdfe226479187c3d4f8a828b47e01e78c51fa0b00453bb89c3f1497424', '120c77d36f452b8ce6e04ceb81a3e1da51c4502ddc599eca0bce2358b8ad9860', '47794bd88e7e2c80c7c4ac70ae54f86ff63d55328556ea3c02dfe536f262c43b', 'bb52de805fb616ef209312a17464fd65114216696c26bc32acdfb2a41ddffb00', '010e2ebaf1b0e015eb5415a9ba6d585e653c3786f4f59e5ab39f4341ee1a3964', '2c3dfebbfc4c7d6fd0fa325a1a1bc2a8da68aa7513ba6f6853120dc6b8658940', 'fb3f062f7438b861cf70372a19823b73abb3ae511e62c5bef4e3513ec0b89efc', 'e108fb84ef043aced142220864181f3285eec3b385ed56f37542ef2f6517d6a7', 'f2e992e0cc7784a0e549e9b8f20de909855d5cf98338e35be5acf42a28f2267e']\", 'send:-630422678', \"send:['495bdd455fb6d0f1529fe805498f17456f0c4f18e8fb9731731da6f4b364ef68', '67a692e548f34fe4a9ed7c8a0037e3da8749a8779b6b0f9d3ef541f69beca9d4', '8496797e6d8fa9061f1846a13c2a11f8fa7731704d8b2b4eb5ecd5a97e09bfad', '330ae0d23db9322cf2259e3b7c87d0bd2c753ca6150747ddbd16f4fa5964a8e2', '916cc2457e8ff44fd143b7d1121634fe6edca86400e957bb793a3675ca6a5865', 'c80c3761c9f71335c4619f69b16d37a9f5111510bab43fc086796e4783057aa1', '7a0b763f3ee37bdd6b1867628ff068792c1ce414e56951a47df86de3e9e1378d', 'e14e99b51587c5cd76530f0f209900dd6075b00387bcad60d98360550d709b98', '932798a9d3087d93771faa189d97517b445884afb954bc43113ecfeeb1ea0a60']\", 'send:-600922127', \"send:['b6062ad3bddecc57c318bf22e49ab32806178979bbc2e0ad093b964bc4a1e1c0', '797b9f03978a354d7ecd9d144cd150c3e82851a556f3512cfba7b5dd649fee5f', '601a13cb02e2cf02d8cfb1b81cb089e79bd15840e3d999a4a83de65f567338a1', '1eb81314cba089f8f8fc706faebff1e098a8573dac42a7726fdc8d35197d190f', '2029f9715b83f83a232aae6a0d1a3612472db130625bc2f20186af6ae072a0dc', 'ce90d4e659cf59e9f7b614380d6ce16ae2f7dbd609074cc35f253517fae8428d', 'e5ea29cf5f0d9e0ad9fce06c6ed8c136468311f37bbb726153b2342dd8021d9d', '7e6ce946146602b38ef4765079367e0284385bf035a1a4e8aa0a5984ab3280d7', '9b6a55fd0d0ffd23ac19f7fd3a647f1d3fdfa8357c6760f24efd3a7db0b74e1c']\", 'send:48440959', \"send:['7aebe31e8152317ccaefee5ad9697d8339f1f9f0a14843a39be538a62b418b16', 'bcacc753a3a514b7203388794b29c56e6d13244080cb056f41d364430e16af3d', 'acdebbb74751c37e267f4d101e4517d63f6e9befd845d2745d7a2b77b45da2c0', 'ff91460d885cc78bcadf31916d080398c0b0ec71ae43254424cba4730b595c67', '5dc877ada5e8e62ffc0fd508b1c23c2d5cbb58fdf5dc430b35dc12546de6d2ee', 'dff91ff99210b79b767f4f4be161b7ff5a8d626f2b70974db3f8358e7d4a6d01', '4e5769e2ca63f2dba0e07a3e45ff18baa6382f0645fc530252e48543bb8fb926', 'b5d59e67b3378ef1752ad691dabe5d6a7497d285ac24c6dc53e32b7663ffd043']\", 'send:-421121570', \"send:['db81e9d20eb7c764a3a77f7f4b5d9429b70713ef2bb402987c6f5da6427545b9', '359d40e7f5177a005682a20502ccad2943271b8fa7a34f8f51a6281c2ef6aa04', '945c887a6f50c798746de4f0dc429fbee80122a881dcdf577cf3a8652746b16d', '6cf08465104d1c87a859cb2668942f61d53aca42204ca9581b04f72ae35f5948', 'd7219aced1dd22aafa4799f2722ad9e2c6d8ce308a81fde584542a396f794b89', 'c0b1cca56bfb48c1e9fe632e2492224d6c9979f156a9009bae986be39e56989a', 'a299c9fcacf042c7eab018d0542cb1fc72feb6c90d0a6348bec963881cadeb64', 'c64c183db696b2f8bce4c808ced09e233060fc09f97231f3e3d2f4e0e28986e2']\", 'send:-1398947336', \"send:['98eaffb763e8330eb0f1ff34479854eaca3215c535f1b4afa70a524a3cf9d3df', 'b0fed1543ee5362f51304a71c9298857357a13a5894f19e6c9561ef404ad309d', 'd7b941c7d39d981b1ad672c3399a08f0c01ba997623b5fefef9c45a7112cac15', '5e8740877027036b26b3631c089a1e27b27291fad477646f95e48c7435511cd0', 'c5eb1f773c49ddeb65bfaf24f47ad2b613cc4a023a1749f50f60ae1156356ba5', '890a68a0b86cad1648762315884b3e7a4aca034981308eefbfa8a637423eadd9', '4f52942c892b4d53afbbc58f8c78a0cc53e50f376e2ec15b54178aedb052461e']\", 'send:1521309531', \"send:['a68b637361b17f8fa5f58c57ce8b654e05a0a6c45c5c3c76bafadb18d67d0111', '3dad20d416ef7c4ffb309b89877c6ba910bc3b6c02add20883376df1310b97b7', '875414bcece592eba27cb1cc8f2bbdcd3660345c2a5790ce9d531954aca0c99e', '3b59d9b58a6d9d476725201d9942ee1bf00a4068889c2cb0d407795a8f59551f', 'a966425d7e4271eb2bb62e123bb43e3552c9ac22747978fd0180030211124be5', '0fed7cad8e4d0a2fff9d0700c47b29bb7a5d44ec56c6eb6bd547f5c84c0ac8e2', '3d416ca80094e8df23205045e3b02ed99b602e384b744e58f592a87473b9f326']\", 'send:1527430719', \"send:['8178f558d6bb70d6f6a25fa2d85251c98d51d0b66d5ea6db22c93b9e1d097acf', '42d2ca3956721b9cf67c1c7edef0d8266521d79a1663118ee2ac7ef77d0d0d5b', '3cd7f1c22b549d81e54b35c0fe2e3d8233f208aebb507096e6abc72a51f03356', 'e6301b040259e3b6d30b9c96fc96924b2f9049ea5b4ea9fe4ae229175c3a7faf', 'f6d88a08c4b223ae440a9f9905b0b3d596d181dd6d7da2e74159d76a4b9523dd', '8229d2757c2905691b5444ee8705ccad99b12fc16c6b1d5b715dfc104b6ff98d']\", 'send:-738624092', \"send:['7502bd84407856e848bea1178ed257364b6945548a70b7c38d785bb49434312e', '76bcdc4473f615375a9aa9db363a7432f0d33638f9a99c190ed86e1e5de05732', '8aedc481b464f24ea6673d83be02cf4fad6a8849ed9042a829e02ef45d0f7da3', '8c615a815b472a32977afdaf042343429ef9d5eac83fe4c2ff508fe265432b60', 'b97c1566e9b48dd1e488e45b8d93f4ef1303b8db19666ea31256c01d2288b9fb', 'b8e58e612361cf3b78ed5cb18c08ae1612fca7f2cf89dcb6142f40afdd8bd852']\", 'send:-369357302', \"send:['2c65a9e9d52215b2d62a9701cb8f7fd3e2f621349bb69ab2e0ba19fd7cd511e3', '23647649186831129dbb2adc21e9a016d4e61311f0cc561b7778f7677ac467a0', '81445ea32b92ed06072e1f949822fcad68bb8076b29991fde81661e5ae016fb9', '90f4173e2facab40b333441d9ae916a8cc6ccae8399db9a09a20298e6e777932', '68399b5be24abe0bfbab971ab99af8669249c1eaa6bf59ad9bb08d16419b5988']\", 'send:236619165', \"send:['863de1b4a32fde827b37be5f00e8d4c5a86c1ae233eea1cac85febefd33fcbc2', 'a96cc5fe87a607f92b4e2dded26a77a3d185e8b6352028ed6bc10f7bb7555fa5', 'fed394c20b09c94e74963a0256e0fa740a4f76218913533805920fd1ce97ed14', '029a2bbe1a234ae15251f3edaac2f91f2dfc4efa5ccb4d7189673570a99d30cb', '86e4aa250fa18b011ecb3ef54df1150b49b0c488f9d80bf04cfe62cb8b29b5fd']\", 'send:868562640', \"send:['a47394aa2eea2e32e12431b655b86d341817a863871736b57e1cc3fa208fd80d', '27358a3f77fd21f6255baf67a6da7e0256a1b5880d3b78ac3eb3698882746148', '5a587195d351f6e691f9a7f6371e1895965bfcd96994266033a90d73a6d737cc', 'fd32de9b94ac646375bcb38bc2d10c1d0b29cad31679644cc29e2cb508720dd6']\", 'send:1292690198', \"send:['4ce1b7d2e17fcb69f15752e4a0bda18fb1ca16470cce11c13ccb63f6922c6ceb', '2495eb45b9d2628400f89dcf5adc870fe8c2be40fe7f8b69584c808e45341f5a', 'e10a6853f08fafb5ef166f2a16802230658341543520bf6c220670f0c4d2778d', '2aecd180a29e603f3319b870aff5021bb303b7750a47bafe87ed285591b6541c']\", 'send:807809296']\n",
      "Overall time: 23.793604850769043s\n",
      "Uncompressed proof length in characters: 46144\n"
     ]
    }
   ],
   "source": [
    "import time\n",
    "from tutorial_sessions import part1, part3 \n",
    "\n",
    "start = time.time()\n",
    "start_all = start\n",
    "print(\"Generating the trace...\")\n",
    "_, _, _, _, _, _, _, f_eval, f_merkle, _ = part1()\n",
    "print(f'{time.time() - start}s')\n",
    "start = time.time()\n",
    "print(\"Generating the composition polynomial and the FRI layers...\")\n",
    "fri_polys, fri_domains, fri_layers, fri_merkles, channel = part3()\n",
    "print(f'{time.time() - start}s')\n",
    "start = time.time()\n",
    "print(\"Generating queries and decommitments...\")\n",
    "decommit_fri(channel)\n",
    "print(f'{time.time() - start}s')\n",
    "start = time.time()\n",
    "print(channel.proof)\n",
    "print(f'Overall time: {time.time() - start_all}s')\n",
    "print(f'Uncompressed proof length in characters: {len(str(channel.proof))}')"
   ]
  }
 ],
 "metadata": {
  "kernelspec": {
   "display_name": "Python 3 (ipykernel)",
   "language": "python",
   "name": "python3"
  },
  "language_info": {
   "codemirror_mode": {
    "name": "ipython",
    "version": 3
   },
   "file_extension": ".py",
   "mimetype": "text/x-python",
   "name": "python",
   "nbconvert_exporter": "python",
   "pygments_lexer": "ipython3",
   "version": "3.9.7"
  }
 },
 "nbformat": 4,
 "nbformat_minor": 4
}
